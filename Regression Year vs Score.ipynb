{
 "cells": [
  {
   "cell_type": "code",
   "execution_count": 36,
   "metadata": {},
   "outputs": [],
   "source": [
    "import pandas as pd\n",
    "import numpy as np\n",
    "import matplotlib.pyplot as plt\n",
    "from sklearn.linear_model import LinearRegression\n",
    "%matplotlib inline"
   ]
  },
  {
   "cell_type": "code",
   "execution_count": 37,
   "metadata": {},
   "outputs": [],
   "source": [
    "index = pd.read_csv('data/basic_index/index_full.csv')\n",
    "del index['Unnamed: 0']"
   ]
  },
  {
   "cell_type": "code",
   "execution_count": 38,
   "metadata": {},
   "outputs": [],
   "source": [
    "# Creating a dict of dataframes, separated by Index Year\n",
    "# This can easily be changed to seperate by Country instead if desired\n",
    "unique_country = index['Name'].unique()\n",
    "\n",
    "country_dict_df = {elem : pd.DataFrame() for elem in unique_country}\n",
    "country_dict_df\n",
    "\n",
    "for key in country_dict_df.keys():\n",
    "    country_dict_df[key] = index[:][index['Name'] == key]"
   ]
  },
  {
   "cell_type": "code",
   "execution_count": 39,
   "metadata": {},
   "outputs": [
    {
     "data": {
      "text/html": [
       "<div>\n",
       "<style scoped>\n",
       "    .dataframe tbody tr th:only-of-type {\n",
       "        vertical-align: middle;\n",
       "    }\n",
       "\n",
       "    .dataframe tbody tr th {\n",
       "        vertical-align: top;\n",
       "    }\n",
       "\n",
       "    .dataframe thead th {\n",
       "        text-align: right;\n",
       "    }\n",
       "</style>\n",
       "<table border=\"1\" class=\"dataframe\">\n",
       "  <thead>\n",
       "    <tr style=\"text-align: right;\">\n",
       "      <th></th>\n",
       "      <th>Name</th>\n",
       "      <th>Index Year</th>\n",
       "      <th>Overall Score</th>\n",
       "      <th>Property Rights</th>\n",
       "      <th>Government Integrity</th>\n",
       "      <th>Tax Burden</th>\n",
       "      <th>Government Spending</th>\n",
       "      <th>Business Freedom</th>\n",
       "      <th>Labor Freedom</th>\n",
       "      <th>Monetary Freedom</th>\n",
       "      <th>Trade Freedom</th>\n",
       "      <th>Investment Freedom</th>\n",
       "      <th>Financial Freedom</th>\n",
       "    </tr>\n",
       "  </thead>\n",
       "  <tbody>\n",
       "    <tr>\n",
       "      <td>441</td>\n",
       "      <td>Ireland</td>\n",
       "      <td>2005</td>\n",
       "      <td>80.8</td>\n",
       "      <td>90.0</td>\n",
       "      <td>75.0</td>\n",
       "      <td>72.6</td>\n",
       "      <td>64.5</td>\n",
       "      <td>85.0</td>\n",
       "      <td>78.2</td>\n",
       "      <td>82.5</td>\n",
       "      <td>80.2</td>\n",
       "      <td>90.0</td>\n",
       "      <td>90.0</td>\n",
       "    </tr>\n",
       "    <tr>\n",
       "      <td>624</td>\n",
       "      <td>Ireland</td>\n",
       "      <td>2006</td>\n",
       "      <td>82.2</td>\n",
       "      <td>90.0</td>\n",
       "      <td>75.0</td>\n",
       "      <td>72.0</td>\n",
       "      <td>64.7</td>\n",
       "      <td>93.7</td>\n",
       "      <td>79.6</td>\n",
       "      <td>84.4</td>\n",
       "      <td>82.4</td>\n",
       "      <td>90.0</td>\n",
       "      <td>90.0</td>\n",
       "    </tr>\n",
       "    <tr>\n",
       "      <td>807</td>\n",
       "      <td>Ireland</td>\n",
       "      <td>2007</td>\n",
       "      <td>82.6</td>\n",
       "      <td>90.0</td>\n",
       "      <td>74.0</td>\n",
       "      <td>71.7</td>\n",
       "      <td>65.9</td>\n",
       "      <td>92.1</td>\n",
       "      <td>80.6</td>\n",
       "      <td>85.3</td>\n",
       "      <td>86.6</td>\n",
       "      <td>90.0</td>\n",
       "      <td>90.0</td>\n",
       "    </tr>\n",
       "    <tr>\n",
       "      <td>990</td>\n",
       "      <td>Ireland</td>\n",
       "      <td>2008</td>\n",
       "      <td>82.5</td>\n",
       "      <td>90.0</td>\n",
       "      <td>74.0</td>\n",
       "      <td>71.5</td>\n",
       "      <td>64.5</td>\n",
       "      <td>93.0</td>\n",
       "      <td>81.1</td>\n",
       "      <td>84.9</td>\n",
       "      <td>86.0</td>\n",
       "      <td>90.0</td>\n",
       "      <td>90.0</td>\n",
       "    </tr>\n",
       "    <tr>\n",
       "      <td>1173</td>\n",
       "      <td>Ireland</td>\n",
       "      <td>2009</td>\n",
       "      <td>82.2</td>\n",
       "      <td>90.0</td>\n",
       "      <td>75.0</td>\n",
       "      <td>69.2</td>\n",
       "      <td>64.9</td>\n",
       "      <td>93.0</td>\n",
       "      <td>79.7</td>\n",
       "      <td>84.3</td>\n",
       "      <td>85.8</td>\n",
       "      <td>90.0</td>\n",
       "      <td>90.0</td>\n",
       "    </tr>\n",
       "    <tr>\n",
       "      <td>1356</td>\n",
       "      <td>Ireland</td>\n",
       "      <td>2010</td>\n",
       "      <td>81.3</td>\n",
       "      <td>90.0</td>\n",
       "      <td>77.0</td>\n",
       "      <td>71.1</td>\n",
       "      <td>61.8</td>\n",
       "      <td>92.8</td>\n",
       "      <td>79.0</td>\n",
       "      <td>79.0</td>\n",
       "      <td>87.5</td>\n",
       "      <td>95.0</td>\n",
       "      <td>80.0</td>\n",
       "    </tr>\n",
       "    <tr>\n",
       "      <td>1539</td>\n",
       "      <td>Ireland</td>\n",
       "      <td>2011</td>\n",
       "      <td>78.7</td>\n",
       "      <td>90.0</td>\n",
       "      <td>80.0</td>\n",
       "      <td>72.1</td>\n",
       "      <td>47.1</td>\n",
       "      <td>92.0</td>\n",
       "      <td>77.5</td>\n",
       "      <td>80.7</td>\n",
       "      <td>87.6</td>\n",
       "      <td>90.0</td>\n",
       "      <td>70.0</td>\n",
       "    </tr>\n",
       "    <tr>\n",
       "      <td>1723</td>\n",
       "      <td>Ireland</td>\n",
       "      <td>2012</td>\n",
       "      <td>76.9</td>\n",
       "      <td>90.0</td>\n",
       "      <td>80.0</td>\n",
       "      <td>73.9</td>\n",
       "      <td>30.4</td>\n",
       "      <td>92.8</td>\n",
       "      <td>78.4</td>\n",
       "      <td>76.7</td>\n",
       "      <td>87.1</td>\n",
       "      <td>90.0</td>\n",
       "      <td>70.0</td>\n",
       "    </tr>\n",
       "    <tr>\n",
       "      <td>1908</td>\n",
       "      <td>Ireland</td>\n",
       "      <td>2013</td>\n",
       "      <td>75.7</td>\n",
       "      <td>90.0</td>\n",
       "      <td>75.0</td>\n",
       "      <td>73.8</td>\n",
       "      <td>28.8</td>\n",
       "      <td>83.4</td>\n",
       "      <td>76.6</td>\n",
       "      <td>82.8</td>\n",
       "      <td>86.8</td>\n",
       "      <td>90.0</td>\n",
       "      <td>70.0</td>\n",
       "    </tr>\n",
       "    <tr>\n",
       "      <td>2094</td>\n",
       "      <td>Ireland</td>\n",
       "      <td>2014</td>\n",
       "      <td>76.2</td>\n",
       "      <td>90.0</td>\n",
       "      <td>74.8</td>\n",
       "      <td>74.0</td>\n",
       "      <td>30.6</td>\n",
       "      <td>83.4</td>\n",
       "      <td>79.5</td>\n",
       "      <td>81.7</td>\n",
       "      <td>87.8</td>\n",
       "      <td>90.0</td>\n",
       "      <td>70.0</td>\n",
       "    </tr>\n",
       "    <tr>\n",
       "      <td>2280</td>\n",
       "      <td>Ireland</td>\n",
       "      <td>2015</td>\n",
       "      <td>76.6</td>\n",
       "      <td>85.0</td>\n",
       "      <td>72.0</td>\n",
       "      <td>73.6</td>\n",
       "      <td>45.6</td>\n",
       "      <td>82.1</td>\n",
       "      <td>76.2</td>\n",
       "      <td>83.9</td>\n",
       "      <td>88.0</td>\n",
       "      <td>90.0</td>\n",
       "      <td>70.0</td>\n",
       "    </tr>\n",
       "    <tr>\n",
       "      <td>2466</td>\n",
       "      <td>Ireland</td>\n",
       "      <td>2016</td>\n",
       "      <td>77.3</td>\n",
       "      <td>90.0</td>\n",
       "      <td>74.0</td>\n",
       "      <td>73.6</td>\n",
       "      <td>50.3</td>\n",
       "      <td>79.6</td>\n",
       "      <td>72.1</td>\n",
       "      <td>85.5</td>\n",
       "      <td>88.0</td>\n",
       "      <td>90.0</td>\n",
       "      <td>70.0</td>\n",
       "    </tr>\n",
       "    <tr>\n",
       "      <td>2652</td>\n",
       "      <td>Ireland</td>\n",
       "      <td>2017</td>\n",
       "      <td>76.7</td>\n",
       "      <td>85.8</td>\n",
       "      <td>78.3</td>\n",
       "      <td>72.7</td>\n",
       "      <td>57.1</td>\n",
       "      <td>80.3</td>\n",
       "      <td>73.6</td>\n",
       "      <td>87.6</td>\n",
       "      <td>87.0</td>\n",
       "      <td>90.0</td>\n",
       "      <td>70.0</td>\n",
       "    </tr>\n",
       "    <tr>\n",
       "      <td>2838</td>\n",
       "      <td>Ireland</td>\n",
       "      <td>2018</td>\n",
       "      <td>80.4</td>\n",
       "      <td>87.7</td>\n",
       "      <td>79.0</td>\n",
       "      <td>76.1</td>\n",
       "      <td>69.6</td>\n",
       "      <td>81.8</td>\n",
       "      <td>76.4</td>\n",
       "      <td>87.4</td>\n",
       "      <td>86.9</td>\n",
       "      <td>90.0</td>\n",
       "      <td>70.0</td>\n",
       "    </tr>\n",
       "    <tr>\n",
       "      <td>3024</td>\n",
       "      <td>Ireland</td>\n",
       "      <td>2019</td>\n",
       "      <td>80.5</td>\n",
       "      <td>85.8</td>\n",
       "      <td>78.0</td>\n",
       "      <td>76.3</td>\n",
       "      <td>77.4</td>\n",
       "      <td>83.1</td>\n",
       "      <td>75.3</td>\n",
       "      <td>87.0</td>\n",
       "      <td>86.0</td>\n",
       "      <td>90.0</td>\n",
       "      <td>70.0</td>\n",
       "    </tr>\n",
       "  </tbody>\n",
       "</table>\n",
       "</div>"
      ],
      "text/plain": [
       "         Name  Index Year  Overall Score  Property Rights  \\\n",
       "441   Ireland        2005           80.8             90.0   \n",
       "624   Ireland        2006           82.2             90.0   \n",
       "807   Ireland        2007           82.6             90.0   \n",
       "990   Ireland        2008           82.5             90.0   \n",
       "1173  Ireland        2009           82.2             90.0   \n",
       "1356  Ireland        2010           81.3             90.0   \n",
       "1539  Ireland        2011           78.7             90.0   \n",
       "1723  Ireland        2012           76.9             90.0   \n",
       "1908  Ireland        2013           75.7             90.0   \n",
       "2094  Ireland        2014           76.2             90.0   \n",
       "2280  Ireland        2015           76.6             85.0   \n",
       "2466  Ireland        2016           77.3             90.0   \n",
       "2652  Ireland        2017           76.7             85.8   \n",
       "2838  Ireland        2018           80.4             87.7   \n",
       "3024  Ireland        2019           80.5             85.8   \n",
       "\n",
       "      Government Integrity  Tax Burden  Government Spending  Business Freedom  \\\n",
       "441                   75.0        72.6                 64.5              85.0   \n",
       "624                   75.0        72.0                 64.7              93.7   \n",
       "807                   74.0        71.7                 65.9              92.1   \n",
       "990                   74.0        71.5                 64.5              93.0   \n",
       "1173                  75.0        69.2                 64.9              93.0   \n",
       "1356                  77.0        71.1                 61.8              92.8   \n",
       "1539                  80.0        72.1                 47.1              92.0   \n",
       "1723                  80.0        73.9                 30.4              92.8   \n",
       "1908                  75.0        73.8                 28.8              83.4   \n",
       "2094                  74.8        74.0                 30.6              83.4   \n",
       "2280                  72.0        73.6                 45.6              82.1   \n",
       "2466                  74.0        73.6                 50.3              79.6   \n",
       "2652                  78.3        72.7                 57.1              80.3   \n",
       "2838                  79.0        76.1                 69.6              81.8   \n",
       "3024                  78.0        76.3                 77.4              83.1   \n",
       "\n",
       "      Labor Freedom  Monetary Freedom  Trade Freedom  Investment Freedom  \\\n",
       "441            78.2              82.5           80.2                90.0   \n",
       "624            79.6              84.4           82.4                90.0   \n",
       "807            80.6              85.3           86.6                90.0   \n",
       "990            81.1              84.9           86.0                90.0   \n",
       "1173           79.7              84.3           85.8                90.0   \n",
       "1356           79.0              79.0           87.5                95.0   \n",
       "1539           77.5              80.7           87.6                90.0   \n",
       "1723           78.4              76.7           87.1                90.0   \n",
       "1908           76.6              82.8           86.8                90.0   \n",
       "2094           79.5              81.7           87.8                90.0   \n",
       "2280           76.2              83.9           88.0                90.0   \n",
       "2466           72.1              85.5           88.0                90.0   \n",
       "2652           73.6              87.6           87.0                90.0   \n",
       "2838           76.4              87.4           86.9                90.0   \n",
       "3024           75.3              87.0           86.0                90.0   \n",
       "\n",
       "      Financial Freedom  \n",
       "441                90.0  \n",
       "624                90.0  \n",
       "807                90.0  \n",
       "990                90.0  \n",
       "1173               90.0  \n",
       "1356               80.0  \n",
       "1539               70.0  \n",
       "1723               70.0  \n",
       "1908               70.0  \n",
       "2094               70.0  \n",
       "2280               70.0  \n",
       "2466               70.0  \n",
       "2652               70.0  \n",
       "2838               70.0  \n",
       "3024               70.0  "
      ]
     },
     "execution_count": 39,
     "metadata": {},
     "output_type": "execute_result"
    }
   ],
   "source": [
    "Ireland_data = country_dict_df['Ireland']\n",
    "Ireland_data.set_index(\"Index Year\")\n",
    "Ireland_data = Ireland_data.drop(Ireland_data.index[[0,1]])\n",
    "Ireland_data = Ireland_data.drop(Ireland_data.columns[[5,8]], axis=1)\n",
    "Ireland_data"
   ]
  },
  {
   "cell_type": "code",
   "execution_count": 80,
   "metadata": {},
   "outputs": [
    {
     "data": {
      "text/plain": [
       "[2005,\n",
       " 2006,\n",
       " 2007,\n",
       " 2008,\n",
       " 2009,\n",
       " 2010,\n",
       " 2011,\n",
       " 2012,\n",
       " 2013,\n",
       " 2014,\n",
       " 2015,\n",
       " 2016,\n",
       " 2017,\n",
       " 2018,\n",
       " 2019]"
      ]
     },
     "execution_count": 80,
     "metadata": {},
     "output_type": "execute_result"
    }
   ],
   "source": [
    "#X = Ireland_data[\"Index Year\"].values.reshape(-1,1)\n",
    "#y = Ireland_data['Overall Score'].tolist()\n",
    "\n",
    "X = Ireland_data.drop(Ireland_data.columns[[0,1]], axis=1)\n",
    "y = Ireland_data['Index Year'].tolist()\n",
    "y"
   ]
  },
  {
   "cell_type": "code",
   "execution_count": 64,
   "metadata": {},
   "outputs": [
    {
     "name": "stdout",
     "output_type": "stream",
     "text": [
      "R^2 Score: 0.956806024499205\n"
     ]
    }
   ],
   "source": [
    "model = LinearRegression()\n",
    "model.fit(X,y)\n",
    "score = model.score(X,y)\n",
    "print(f'R^2 Score: {score}')"
   ]
  },
  {
   "cell_type": "code",
   "execution_count": 65,
   "metadata": {},
   "outputs": [
    {
     "name": "stdout",
     "output_type": "stream",
     "text": [
      "Weight coefficients:  [ 0.01930596 -0.24519655  0.16415486  0.33894362  0.04166618 -0.15566749\n",
      " -0.03394173  0.22840347  0.60937187  0.03397604 -0.20723622]\n",
      "y-axis intercept:  1950.298930228839\n"
     ]
    }
   ],
   "source": [
    "print('Weight coefficients: ', model.coef_)\n",
    "print('y-axis intercept: ', model.intercept_) "
   ]
  },
  {
   "cell_type": "code",
   "execution_count": 66,
   "metadata": {},
   "outputs": [
    {
     "name": "stdout",
     "output_type": "stream",
     "text": [
      "True output: 2005\n",
      "Predicted output: 2005.6330663640051\n",
      "Prediction Error: 0.6330663640051171\n"
     ]
    }
   ],
   "source": [
    "predictions = model.predict(X)\n",
    "print(f\"True output: {y[0]}\")\n",
    "print(f\"Predicted output: {predictions[0]}\")\n",
    "print(f\"Prediction Error: {predictions[0]-y[0]}\")"
   ]
  },
  {
   "cell_type": "code",
   "execution_count": 67,
   "metadata": {},
   "outputs": [
    {
     "data": {
      "text/html": [
       "<div>\n",
       "<style scoped>\n",
       "    .dataframe tbody tr th:only-of-type {\n",
       "        vertical-align: middle;\n",
       "    }\n",
       "\n",
       "    .dataframe tbody tr th {\n",
       "        vertical-align: top;\n",
       "    }\n",
       "\n",
       "    .dataframe thead th {\n",
       "        text-align: right;\n",
       "    }\n",
       "</style>\n",
       "<table border=\"1\" class=\"dataframe\">\n",
       "  <thead>\n",
       "    <tr style=\"text-align: right;\">\n",
       "      <th></th>\n",
       "      <th>Predicted</th>\n",
       "      <th>Actual</th>\n",
       "      <th>Error</th>\n",
       "    </tr>\n",
       "  </thead>\n",
       "  <tbody>\n",
       "    <tr>\n",
       "      <td>0</td>\n",
       "      <td>2005.633066</td>\n",
       "      <td>2005</td>\n",
       "      <td>0.633066</td>\n",
       "    </tr>\n",
       "    <tr>\n",
       "      <td>1</td>\n",
       "      <td>2005.837821</td>\n",
       "      <td>2006</td>\n",
       "      <td>-0.162179</td>\n",
       "    </tr>\n",
       "    <tr>\n",
       "      <td>2</td>\n",
       "      <td>2008.609756</td>\n",
       "      <td>2007</td>\n",
       "      <td>1.609756</td>\n",
       "    </tr>\n",
       "    <tr>\n",
       "      <td>3</td>\n",
       "      <td>2007.867648</td>\n",
       "      <td>2008</td>\n",
       "      <td>-0.132352</td>\n",
       "    </tr>\n",
       "    <tr>\n",
       "      <td>4</td>\n",
       "      <td>2007.051709</td>\n",
       "      <td>2009</td>\n",
       "      <td>-1.948291</td>\n",
       "    </tr>\n",
       "    <tr>\n",
       "      <td>5</td>\n",
       "      <td>2010.000000</td>\n",
       "      <td>2010</td>\n",
       "      <td>0.000000</td>\n",
       "    </tr>\n",
       "    <tr>\n",
       "      <td>6</td>\n",
       "      <td>2012.695872</td>\n",
       "      <td>2011</td>\n",
       "      <td>1.695872</td>\n",
       "    </tr>\n",
       "    <tr>\n",
       "      <td>7</td>\n",
       "      <td>2011.202013</td>\n",
       "      <td>2012</td>\n",
       "      <td>-0.797987</td>\n",
       "    </tr>\n",
       "    <tr>\n",
       "      <td>8</td>\n",
       "      <td>2012.992330</td>\n",
       "      <td>2013</td>\n",
       "      <td>-0.007670</td>\n",
       "    </tr>\n",
       "    <tr>\n",
       "      <td>9</td>\n",
       "      <td>2013.371637</td>\n",
       "      <td>2014</td>\n",
       "      <td>-0.628363</td>\n",
       "    </tr>\n",
       "    <tr>\n",
       "      <td>10</td>\n",
       "      <td>2015.573861</td>\n",
       "      <td>2015</td>\n",
       "      <td>0.573861</td>\n",
       "    </tr>\n",
       "    <tr>\n",
       "      <td>11</td>\n",
       "      <td>2015.779309</td>\n",
       "      <td>2016</td>\n",
       "      <td>-0.220691</td>\n",
       "    </tr>\n",
       "    <tr>\n",
       "      <td>12</td>\n",
       "      <td>2017.192093</td>\n",
       "      <td>2017</td>\n",
       "      <td>0.192093</td>\n",
       "    </tr>\n",
       "    <tr>\n",
       "      <td>13</td>\n",
       "      <td>2018.150640</td>\n",
       "      <td>2018</td>\n",
       "      <td>0.150640</td>\n",
       "    </tr>\n",
       "    <tr>\n",
       "      <td>14</td>\n",
       "      <td>2018.042246</td>\n",
       "      <td>2019</td>\n",
       "      <td>-0.957754</td>\n",
       "    </tr>\n",
       "  </tbody>\n",
       "</table>\n",
       "</div>"
      ],
      "text/plain": [
       "      Predicted  Actual     Error\n",
       "0   2005.633066    2005  0.633066\n",
       "1   2005.837821    2006 -0.162179\n",
       "2   2008.609756    2007  1.609756\n",
       "3   2007.867648    2008 -0.132352\n",
       "4   2007.051709    2009 -1.948291\n",
       "5   2010.000000    2010  0.000000\n",
       "6   2012.695872    2011  1.695872\n",
       "7   2011.202013    2012 -0.797987\n",
       "8   2012.992330    2013 -0.007670\n",
       "9   2013.371637    2014 -0.628363\n",
       "10  2015.573861    2015  0.573861\n",
       "11  2015.779309    2016 -0.220691\n",
       "12  2017.192093    2017  0.192093\n",
       "13  2018.150640    2018  0.150640\n",
       "14  2018.042246    2019 -0.957754"
      ]
     },
     "execution_count": 67,
     "metadata": {},
     "output_type": "execute_result"
    }
   ],
   "source": [
    "pd.DataFrame({\"Predicted\": predictions, \"Actual\": y, \"Error\": predictions - y})[[\"Predicted\", \"Actual\", \"Error\"]]"
   ]
  },
  {
   "cell_type": "code",
   "execution_count": 71,
   "metadata": {},
   "outputs": [],
   "source": [
    "y = Ireland_data[\"Overall Score\"].values.reshape(-1,1)\n",
    "x_min = X.min()\n",
    "x_max = X.max()\n",
    "y_min_actual = y.min()\n",
    "y_max_actual = y.max()"
   ]
  },
  {
   "cell_type": "markdown",
   "metadata": {},
   "source": [
    "y_min_predicted = model.predict([[x_min]])\n",
    "y_max_predicted = model.predict([[x_max]])\n",
    "print(f\"Actual Min Value: {y_min_actual}\")\n",
    "print(f\"Predicted Min Value: {y_min_predicted}\")\n",
    "print(f\"Actual Max Value: {y_max_actual}\")\n",
    "print(f\"Predicted Max Value: {y_max_predicted}\")"
   ]
  },
  {
   "cell_type": "markdown",
   "metadata": {},
   "source": [
    "plt.figure(figsize=(12,8))\n",
    "plt.scatter(X, y, c='blue')\n",
    "plt.plot([x_min, x_max], [y_min_actual, y_max_actual], c='red')\n",
    "plt.xlabel(\"2013 Index of Economic Freedom Score\")\n",
    "plt.ylabel(\"2013 Diversity Index\")\n",
    "plt.title(\"Single-Variable Regression of 2013 IEF Score vs. Diversity Score\")\n",
    "plt.show()"
   ]
  },
  {
   "cell_type": "code",
   "execution_count": 72,
   "metadata": {},
   "outputs": [],
   "source": [
    "def r2_adj(X, y, norm=True, y_int=True):\n",
    "    adj_model = LinearRegression(normalize=norm, fit_intercept=y_int)\n",
    "    adj_model.fit(X, y)\n",
    "    r_sq = adj_model.score(X, y)\n",
    "    n, p = X.shape\n",
    "    adj_r_sq = r_sq - (1 - r_sq) * p / (n - p - 1)\n",
    "    return r_sq, adj_r_sq"
   ]
  },
  {
   "cell_type": "code",
   "execution_count": 73,
   "metadata": {},
   "outputs": [
    {
     "data": {
      "text/plain": [
       "(1.0, 1.0)"
      ]
     },
     "execution_count": 73,
     "metadata": {},
     "output_type": "execute_result"
    }
   ],
   "source": [
    "r2_adj(X,y)"
   ]
  },
  {
   "cell_type": "code",
   "execution_count": 84,
   "metadata": {},
   "outputs": [
    {
     "data": {
      "image/png": "[encoded data removed]",
      "text/plain": [
       "<Figure size 864x576 with 1 Axes>"
      ]
     },
     "metadata": {
      "needs_background": "light"
     },
     "output_type": "display_data"
    }
   ],
   "source": [
    "y_hat = model.predict(X)\n",
    "res = y_hat - y\n",
    "\n",
    "\n",
    "#xlim = [y_hat.min()-1000, y_hat.max()+1000]\n",
    "xlim = [2003,2019]\n",
    "plt.figure(figsize=(12,8))\n",
    "plt.scatter(y_hat, res, s=30)\n",
    "plt.xlabel('Regression ($\\hat{y_i}$)')\n",
    "plt.ylabel('Residuals ($\\hat{y_i} - y_i$)')\n",
    "plt.title('Regression versus Residuals')\n",
    "plt.hlines(0, xlim[0], xlim[1])\n",
    "plt.xlim(xlim)\n",
    "plt.show()"
   ]
  },
  {
   "cell_type": "code",
   "execution_count": 85,
   "metadata": {},
   "outputs": [
    {
     "data": {
      "image/png": "[encoded data removed]",
      "text/plain": [
       "<Figure size 864x576 with 1 Axes>"
      ]
     },
     "metadata": {
      "needs_background": "light"
     },
     "output_type": "display_data"
    }
   ],
   "source": [
    "plt.figure(figsize=(12,8))\n",
    "plt.scatter(y_hat, y, s=30)\n",
    "plt.xlabel('Regression ($\\hat{y_i}$)')\n",
    "plt.ylabel('Actuals ($y_i$)')\n",
    "plt.title('Regression versus Actual')\n",
    "plt.show()"
   ]
  },
  {
   "cell_type": "code",
   "execution_count": 86,
   "metadata": {},
   "outputs": [
    {
     "data": {
      "text/plain": [
       "(0.9567884054381165, 0.7983458920445436)"
      ]
     },
     "execution_count": 86,
     "metadata": {},
     "output_type": "execute_result"
    }
   ],
   "source": [
    "y_log = np.log(y)\n",
    "lm_log = LinearRegression(normalize=True)\n",
    "lm_log.fit(X,y_log)\n",
    "r2_adj(X,y_log)"
   ]
  },
  {
   "cell_type": "code",
   "execution_count": 92,
   "metadata": {},
   "outputs": [],
   "source": [
    "y_hat_log = lm_log.predict(X)\n",
    "res2 = y_hat_log - y_log\n",
    "# Standardize residuals\n",
    "res2_z = (res2 - res2.mean()) /  res2.std()\n",
    "\n",
    "q75, q25 = np.percentile(res2, [75 ,25])\n",
    "iqr = q75 - q25\n",
    "out_right = res2[res2 >= (1.5 * iqr + q75)]\n",
    "out_left = res2[res2 <= q25 - 1.5 * iqr]\n"
   ]
  },
  {
   "cell_type": "code",
   "execution_count": 93,
   "metadata": {},
   "outputs": [
    {
     "data": {
      "text/plain": [
       "0                         [-0.0009684157211822253]\n",
       "1    [0.000800573263907367, 0.0008429660169158026]\n",
       "dtype: object"
      ]
     },
     "execution_count": 93,
     "metadata": {},
     "output_type": "execute_result"
    }
   ],
   "source": [
    "out_right= pd.Series([out_right])\n",
    "out_left= pd.Series([out_left])\n",
    "array = pd.concat([out_left,out_right], ignore_index=True)\n",
    "y_series = pd.Series(y_log)\n",
    "array"
   ]
  },
  {
   "cell_type": "markdown",
   "metadata": {},
   "source": [
    "outliers = pd.concat([out_left, out_right])\n",
    "\n",
    "X2 = X.drop(outliers.index, axis=1)\n",
    "y2 = y_series.drop(outliers.index, axis=1)\n",
    "model.fit(X2,y2)\n",
    "r2_adj(X2, y2)\n"
   ]
  },
  {
   "cell_type": "code",
   "execution_count": 102,
   "metadata": {},
   "outputs": [],
   "source": [
    "x_agg = X\n",
    "plot = LinearRegression(normalize=True, fit_intercept=True)"
   ]
  },
  {
   "cell_type": "markdown",
   "metadata": {},
   "source": [
    "plot.fit(x_agg,y)\n",
    "y_hat_agg = plot.predict(x_agg)\n",
    "x_hat_agg = np.linspace(25,100,100).reshape(-1,1)\n",
    "y_hat_agg_reg = plot.predict(x_hat_agg)\n",
    "res_ = y_hat_agg - y2\n"
   ]
  },
  {
   "cell_type": "code",
   "execution_count": 107,
   "metadata": {},
   "outputs": [
    {
     "ename": "ValueError",
     "evalue": "x and y must be the same size",
     "output_type": "error",
     "traceback": [
      "\u001b[0;31m---------------------------------------------------------------------------\u001b[0m",
      "\u001b[0;31mValueError\u001b[0m                                Traceback (most recent call last)",
      "\u001b[0;32m<ipython-input-107-d66810f9fa4c>\u001b[0m in \u001b[0;36m<module>\u001b[0;34m\u001b[0m\n\u001b[1;32m      1\u001b[0m \u001b[0mplt\u001b[0m\u001b[0;34m.\u001b[0m\u001b[0mfigure\u001b[0m\u001b[0;34m(\u001b[0m\u001b[0mfigsize\u001b[0m\u001b[0;34m=\u001b[0m\u001b[0;34m(\u001b[0m\u001b[0;36m12\u001b[0m\u001b[0;34m,\u001b[0m\u001b[0;36m8\u001b[0m\u001b[0;34m)\u001b[0m\u001b[0;34m)\u001b[0m\u001b[0;34m\u001b[0m\u001b[0;34m\u001b[0m\u001b[0m\n\u001b[0;32m----> 2\u001b[0;31m \u001b[0mplt\u001b[0m\u001b[0;34m.\u001b[0m\u001b[0mscatter\u001b[0m\u001b[0;34m(\u001b[0m\u001b[0mx_agg\u001b[0m\u001b[0;34m,\u001b[0m\u001b[0my\u001b[0m\u001b[0;34m)\u001b[0m\u001b[0;34m\u001b[0m\u001b[0;34m\u001b[0m\u001b[0m\n\u001b[0m\u001b[1;32m      3\u001b[0m \u001b[0mplt\u001b[0m\u001b[0;34m.\u001b[0m\u001b[0mplot\u001b[0m\u001b[0;34m(\u001b[0m\u001b[0mx_agg\u001b[0m\u001b[0;34m,\u001b[0m \u001b[0my_reg\u001b[0m\u001b[0;34m,\u001b[0m \u001b[0mc\u001b[0m\u001b[0;34m=\u001b[0m\u001b[0;34m'r'\u001b[0m\u001b[0;34m)\u001b[0m\u001b[0;34m\u001b[0m\u001b[0;34m\u001b[0m\u001b[0m\n\u001b[1;32m      4\u001b[0m \u001b[0mplt\u001b[0m\u001b[0;34m.\u001b[0m\u001b[0mxlabel\u001b[0m\u001b[0;34m(\u001b[0m\u001b[0;34m\"2019 Index of Economic Freedom Score\"\u001b[0m\u001b[0;34m)\u001b[0m\u001b[0;34m\u001b[0m\u001b[0;34m\u001b[0m\u001b[0m\n\u001b[1;32m      5\u001b[0m \u001b[0mplt\u001b[0m\u001b[0;34m.\u001b[0m\u001b[0mylabel\u001b[0m\u001b[0;34m(\u001b[0m\u001b[0;34m\"Log(GDP per Capita PPP)\"\u001b[0m\u001b[0;34m)\u001b[0m\u001b[0;34m\u001b[0m\u001b[0;34m\u001b[0m\u001b[0m\n",
      "\u001b[0;32m/opt/anaconda3/lib/python3.7/site-packages/matplotlib/pyplot.py\u001b[0m in \u001b[0;36mscatter\u001b[0;34m(x, y, s, c, marker, cmap, norm, vmin, vmax, alpha, linewidths, verts, edgecolors, plotnonfinite, data, **kwargs)\u001b[0m\n\u001b[1;32m   2845\u001b[0m         \u001b[0mverts\u001b[0m\u001b[0;34m=\u001b[0m\u001b[0mverts\u001b[0m\u001b[0;34m,\u001b[0m \u001b[0medgecolors\u001b[0m\u001b[0;34m=\u001b[0m\u001b[0medgecolors\u001b[0m\u001b[0;34m,\u001b[0m\u001b[0;34m\u001b[0m\u001b[0;34m\u001b[0m\u001b[0m\n\u001b[1;32m   2846\u001b[0m         plotnonfinite=plotnonfinite, **({\"data\": data} if data is not\n\u001b[0;32m-> 2847\u001b[0;31m         None else {}), **kwargs)\n\u001b[0m\u001b[1;32m   2848\u001b[0m     \u001b[0msci\u001b[0m\u001b[0;34m(\u001b[0m\u001b[0m__ret\u001b[0m\u001b[0;34m)\u001b[0m\u001b[0;34m\u001b[0m\u001b[0;34m\u001b[0m\u001b[0m\n\u001b[1;32m   2849\u001b[0m     \u001b[0;32mreturn\u001b[0m \u001b[0m__ret\u001b[0m\u001b[0;34m\u001b[0m\u001b[0;34m\u001b[0m\u001b[0m\n",
      "\u001b[0;32m/opt/anaconda3/lib/python3.7/site-packages/matplotlib/__init__.py\u001b[0m in \u001b[0;36minner\u001b[0;34m(ax, data, *args, **kwargs)\u001b[0m\n\u001b[1;32m   1599\u001b[0m     \u001b[0;32mdef\u001b[0m \u001b[0minner\u001b[0m\u001b[0;34m(\u001b[0m\u001b[0max\u001b[0m\u001b[0;34m,\u001b[0m \u001b[0;34m*\u001b[0m\u001b[0margs\u001b[0m\u001b[0;34m,\u001b[0m \u001b[0mdata\u001b[0m\u001b[0;34m=\u001b[0m\u001b[0;32mNone\u001b[0m\u001b[0;34m,\u001b[0m \u001b[0;34m**\u001b[0m\u001b[0mkwargs\u001b[0m\u001b[0;34m)\u001b[0m\u001b[0;34m:\u001b[0m\u001b[0;34m\u001b[0m\u001b[0;34m\u001b[0m\u001b[0m\n\u001b[1;32m   1600\u001b[0m         \u001b[0;32mif\u001b[0m \u001b[0mdata\u001b[0m \u001b[0;32mis\u001b[0m \u001b[0;32mNone\u001b[0m\u001b[0;34m:\u001b[0m\u001b[0;34m\u001b[0m\u001b[0;34m\u001b[0m\u001b[0m\n\u001b[0;32m-> 1601\u001b[0;31m             \u001b[0;32mreturn\u001b[0m \u001b[0mfunc\u001b[0m\u001b[0;34m(\u001b[0m\u001b[0max\u001b[0m\u001b[0;34m,\u001b[0m \u001b[0;34m*\u001b[0m\u001b[0mmap\u001b[0m\u001b[0;34m(\u001b[0m\u001b[0msanitize_sequence\u001b[0m\u001b[0;34m,\u001b[0m \u001b[0margs\u001b[0m\u001b[0;34m)\u001b[0m\u001b[0;34m,\u001b[0m \u001b[0;34m**\u001b[0m\u001b[0mkwargs\u001b[0m\u001b[0;34m)\u001b[0m\u001b[0;34m\u001b[0m\u001b[0;34m\u001b[0m\u001b[0m\n\u001b[0m\u001b[1;32m   1602\u001b[0m \u001b[0;34m\u001b[0m\u001b[0m\n\u001b[1;32m   1603\u001b[0m         \u001b[0mbound\u001b[0m \u001b[0;34m=\u001b[0m \u001b[0mnew_sig\u001b[0m\u001b[0;34m.\u001b[0m\u001b[0mbind\u001b[0m\u001b[0;34m(\u001b[0m\u001b[0max\u001b[0m\u001b[0;34m,\u001b[0m \u001b[0;34m*\u001b[0m\u001b[0margs\u001b[0m\u001b[0;34m,\u001b[0m \u001b[0;34m**\u001b[0m\u001b[0mkwargs\u001b[0m\u001b[0;34m)\u001b[0m\u001b[0;34m\u001b[0m\u001b[0;34m\u001b[0m\u001b[0m\n",
      "\u001b[0;32m/opt/anaconda3/lib/python3.7/site-packages/matplotlib/axes/_axes.py\u001b[0m in \u001b[0;36mscatter\u001b[0;34m(self, x, y, s, c, marker, cmap, norm, vmin, vmax, alpha, linewidths, verts, edgecolors, plotnonfinite, **kwargs)\u001b[0m\n\u001b[1;32m   4442\u001b[0m         \u001b[0my\u001b[0m \u001b[0;34m=\u001b[0m \u001b[0mnp\u001b[0m\u001b[0;34m.\u001b[0m\u001b[0mma\u001b[0m\u001b[0;34m.\u001b[0m\u001b[0mravel\u001b[0m\u001b[0;34m(\u001b[0m\u001b[0my\u001b[0m\u001b[0;34m)\u001b[0m\u001b[0;34m\u001b[0m\u001b[0;34m\u001b[0m\u001b[0m\n\u001b[1;32m   4443\u001b[0m         \u001b[0;32mif\u001b[0m \u001b[0mx\u001b[0m\u001b[0;34m.\u001b[0m\u001b[0msize\u001b[0m \u001b[0;34m!=\u001b[0m \u001b[0my\u001b[0m\u001b[0;34m.\u001b[0m\u001b[0msize\u001b[0m\u001b[0;34m:\u001b[0m\u001b[0;34m\u001b[0m\u001b[0;34m\u001b[0m\u001b[0m\n\u001b[0;32m-> 4444\u001b[0;31m             \u001b[0;32mraise\u001b[0m \u001b[0mValueError\u001b[0m\u001b[0;34m(\u001b[0m\u001b[0;34m\"x and y must be the same size\"\u001b[0m\u001b[0;34m)\u001b[0m\u001b[0;34m\u001b[0m\u001b[0;34m\u001b[0m\u001b[0m\n\u001b[0m\u001b[1;32m   4445\u001b[0m \u001b[0;34m\u001b[0m\u001b[0m\n\u001b[1;32m   4446\u001b[0m         \u001b[0;32mif\u001b[0m \u001b[0ms\u001b[0m \u001b[0;32mis\u001b[0m \u001b[0;32mNone\u001b[0m\u001b[0;34m:\u001b[0m\u001b[0;34m\u001b[0m\u001b[0;34m\u001b[0m\u001b[0m\n",
      "\u001b[0;31mValueError\u001b[0m: x and y must be the same size"
     ]
    },
    {
     "data": {
      "image/png": "[encoded data removed]",
      "text/plain": [
       "<Figure size 864x576 with 1 Axes>"
      ]
     },
     "metadata": {
      "needs_background": "light"
     },
     "output_type": "display_data"
    }
   ],
   "source": [
    "plt.figure(figsize=(12,8))\n",
    "plt.scatter(x_agg,y)\n",
    "plt.plot(x_agg, y, c='r')\n",
    "plt.xlabel(\"2019 Index of Economic Freedom Score\")\n",
    "plt.ylabel(\"Log(GDP per Capita PPP)\")\n",
    "plt.title(\"Single-Variable Regression of 2019 IEF Score vs. GDP per Capita PPP\")\n",
    "plt.show()"
   ]
  },
  {
   "cell_type": "code",
   "execution_count": 110,
   "metadata": {},
   "outputs": [
    {
     "data": {
      "text/plain": [
       "(15, 11)"
      ]
     },
     "execution_count": 110,
     "metadata": {},
     "output_type": "execute_result"
    }
   ],
   "source": [
    "x_agg.shape"
   ]
  },
  {
   "cell_type": "code",
   "execution_count": 109,
   "metadata": {},
   "outputs": [
    {
     "ename": "AttributeError",
     "evalue": "'list' object has no attribute 'shape'",
     "output_type": "error",
     "traceback": [
      "\u001b[0;31m---------------------------------------------------------------------------\u001b[0m",
      "\u001b[0;31mAttributeError\u001b[0m                            Traceback (most recent call last)",
      "\u001b[0;32m<ipython-input-109-3d861059fa55>\u001b[0m in \u001b[0;36m<module>\u001b[0;34m\u001b[0m\n\u001b[0;32m----> 1\u001b[0;31m \u001b[0my\u001b[0m\u001b[0;34m.\u001b[0m\u001b[0mshape\u001b[0m\u001b[0;34m\u001b[0m\u001b[0;34m\u001b[0m\u001b[0m\n\u001b[0m",
      "\u001b[0;31mAttributeError\u001b[0m: 'list' object has no attribute 'shape'"
     ]
    }
   ],
   "source": [
    "y.shape"
   ]
  },
  {
   "cell_type": "code",
   "execution_count": null,
   "metadata": {},
   "outputs": [],
   "source": []
  }
 ],
 "metadata": {
  "kernelspec": {
   "display_name": "Python 3",
   "language": "python",
   "name": "python3"
  },
  "language_info": {
   "codemirror_mode": {
    "name": "ipython",
    "version": 3
   },
   "file_extension": ".py",
   "mimetype": "text/x-python",
   "name": "python",
   "nbconvert_exporter": "python",
   "pygments_lexer": "ipython3",
   "version": "3.7.4"
  }
 },
 "nbformat": 4,
 "nbformat_minor": 2
}
